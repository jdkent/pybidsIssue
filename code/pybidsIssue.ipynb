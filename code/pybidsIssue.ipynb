{
 "cells": [
  {
   "cell_type": "code",
   "execution_count": 1,
   "metadata": {},
   "outputs": [
    {
     "name": "stderr",
     "output_type": "stream",
     "text": [
      "Failed to import duecredit due to No module named 'duecredit'\n"
     ]
    }
   ],
   "source": [
    "from bids import BIDSLayout\n",
    "import os\n",
    "import json"
   ]
  },
  {
   "cell_type": "code",
   "execution_count": 2,
   "metadata": {},
   "outputs": [],
   "source": [
    "ds_json = os.path.join('../derivatives/fmriprep', 'dataset_description.json')\n",
    "if os.path.isfile(ds_json):\n",
    "    os.remove(ds_json)\n",
    "# fails silently if dataset_description.json doesn't exist in derivatives\n",
    "layout = BIDSLayout('..', derivatives=True)"
   ]
  },
  {
   "cell_type": "code",
   "execution_count": 3,
   "metadata": {},
   "outputs": [
    {
     "data": {
      "text/plain": [
       "[<BIDSFile filename='dataset_description.json'>,\n",
       " <BIDSFile filename='fieldmap.json'>,\n",
       " <BIDSFile filename='sub-controlGE140/ses-post/anat/sub-controlGE140_ses-post_acq-1_T2w.nii.gz'>,\n",
       " <BIDSFile filename='sub-controlGE140/ses-post/anat/sub-controlGE140_ses-post_acq-2_T2w.nii.gz'>,\n",
       " <BIDSFile filename='sub-controlGE140/ses-post/anat/sub-controlGE140_ses-post_T1w.nii.gz'>,\n",
       " <BIDSFile filename='sub-controlGE140/ses-post/cbf/sub-controlGE140_ses-post_acq-ASL_cbf.nii.gz'>,\n",
       " <BIDSFile filename='sub-controlGE140/ses-post/cbf/sub-controlGE140_ses-post_acq-cbf_cbf.nii.gz'>,\n",
       " <BIDSFile filename='sub-controlGE140/ses-post/dwi/sub-controlGE140_ses-post_acq-64D_dwi.bval'>,\n",
       " <BIDSFile filename='sub-controlGE140/ses-post/dwi/sub-controlGE140_ses-post_acq-64D_dwi.bvec'>,\n",
       " <BIDSFile filename='sub-controlGE140/ses-post/dwi/sub-controlGE140_ses-post_acq-64D_dwi.json'>,\n",
       " <BIDSFile filename='sub-controlGE140/ses-post/dwi/sub-controlGE140_ses-post_acq-64D_dwi.nii.gz'>,\n",
       " <BIDSFile filename='sub-controlGE140/ses-post/dwi/sub-controlGE140_ses-post_acq-blip_dwi.bval'>,\n",
       " <BIDSFile filename='sub-controlGE140/ses-post/dwi/sub-controlGE140_ses-post_acq-blip_dwi.bvec'>,\n",
       " <BIDSFile filename='sub-controlGE140/ses-post/dwi/sub-controlGE140_ses-post_acq-blip_dwi.json'>,\n",
       " <BIDSFile filename='sub-controlGE140/ses-post/dwi/sub-controlGE140_ses-post_acq-blip_dwi.nii.gz'>,\n",
       " <BIDSFile filename='sub-controlGE140/ses-post/fmap/sub-controlGE140_ses-post_fieldmap.json'>,\n",
       " <BIDSFile filename='sub-controlGE140/ses-post/fmap/sub-controlGE140_ses-post_fieldmap.nii.gz'>,\n",
       " <BIDSFile filename='sub-controlGE140/ses-post/fmap/sub-controlGE140_ses-post_magnitude.nii.gz'>,\n",
       " <BIDSFile filename='sub-controlGE140/ses-post/func/sub-controlGE140_ses-post_task-flanker_bold.nii.gz'>,\n",
       " <BIDSFile filename='sub-controlGE140/ses-post/func/sub-controlGE140_ses-post_task-flanker_events.tsv'>,\n",
       " <BIDSFile filename='sub-controlGE140/ses-post/func/sub-controlGE140_ses-post_task-rest_bold.nii.gz'>,\n",
       " <BIDSFile filename='sub-controlGE140/ses-post/sub-controlGE140_ses-post_scans.tsv'>,\n",
       " <BIDSFile filename='sub-controlGE140/ses-pre/anat/sub-controlGE140_ses-pre_acq-1_T2w.nii.gz'>,\n",
       " <BIDSFile filename='sub-controlGE140/ses-pre/anat/sub-controlGE140_ses-pre_acq-2_T2w.nii.gz'>,\n",
       " <BIDSFile filename='sub-controlGE140/ses-pre/anat/sub-controlGE140_ses-pre_T1w.nii.gz'>,\n",
       " <BIDSFile filename='sub-controlGE140/ses-pre/cbf/sub-controlGE140_ses-pre_acq-ASL_cbf.nii.gz'>,\n",
       " <BIDSFile filename='sub-controlGE140/ses-pre/cbf/sub-controlGE140_ses-pre_acq-cbf_cbf.nii.gz'>,\n",
       " <BIDSFile filename='sub-controlGE140/ses-pre/dwi/sub-controlGE140_ses-pre_acq-64D_dwi.bval'>,\n",
       " <BIDSFile filename='sub-controlGE140/ses-pre/dwi/sub-controlGE140_ses-pre_acq-64D_dwi.bvec'>,\n",
       " <BIDSFile filename='sub-controlGE140/ses-pre/dwi/sub-controlGE140_ses-pre_acq-64D_dwi.json'>,\n",
       " <BIDSFile filename='sub-controlGE140/ses-pre/dwi/sub-controlGE140_ses-pre_acq-64D_dwi.nii.gz'>,\n",
       " <BIDSFile filename='sub-controlGE140/ses-pre/dwi/sub-controlGE140_ses-pre_acq-blip_dwi.bval'>,\n",
       " <BIDSFile filename='sub-controlGE140/ses-pre/dwi/sub-controlGE140_ses-pre_acq-blip_dwi.bvec'>,\n",
       " <BIDSFile filename='sub-controlGE140/ses-pre/dwi/sub-controlGE140_ses-pre_acq-blip_dwi.json'>,\n",
       " <BIDSFile filename='sub-controlGE140/ses-pre/dwi/sub-controlGE140_ses-pre_acq-blip_dwi.nii.gz'>,\n",
       " <BIDSFile filename='sub-controlGE140/ses-pre/fmap/sub-controlGE140_ses-pre_fieldmap.json'>,\n",
       " <BIDSFile filename='sub-controlGE140/ses-pre/fmap/sub-controlGE140_ses-pre_fieldmap.nii.gz'>,\n",
       " <BIDSFile filename='sub-controlGE140/ses-pre/fmap/sub-controlGE140_ses-pre_magnitude.nii.gz'>,\n",
       " <BIDSFile filename='sub-controlGE140/ses-pre/func/sub-controlGE140_ses-pre_task-flanker_bold.nii.gz'>,\n",
       " <BIDSFile filename='sub-controlGE140/ses-pre/func/sub-controlGE140_ses-pre_task-flanker_events.tsv'>,\n",
       " <BIDSFile filename='sub-controlGE140/ses-pre/func/sub-controlGE140_ses-pre_task-rest_bold.nii.gz'>,\n",
       " <BIDSFile filename='sub-controlGE140/ses-pre/sub-controlGE140_ses-pre_scans.tsv'>,\n",
       " <BIDSFile filename='task-flanker_bold.json'>,\n",
       " <BIDSFile filename='task-rest_bold.json'>]"
      ]
     },
     "execution_count": 3,
     "metadata": {},
     "output_type": "execute_result"
    }
   ],
   "source": [
    "layout.get()"
   ]
  },
  {
   "cell_type": "code",
   "execution_count": 4,
   "metadata": {},
   "outputs": [],
   "source": [
    "# all fail silently without dataset_description.json\n",
    "layout.add_derivatives('../derivatives')\n",
    "layout.add_derivatives('derivatives')\n",
    "layout.add_derivatives(os.path.abspath('../derivatives'))"
   ]
  },
  {
   "cell_type": "code",
   "execution_count": 5,
   "metadata": {},
   "outputs": [
    {
     "data": {
      "text/plain": [
       "[<BIDSFile filename='dataset_description.json'>,\n",
       " <BIDSFile filename='fieldmap.json'>,\n",
       " <BIDSFile filename='sub-controlGE140/ses-post/anat/sub-controlGE140_ses-post_acq-1_T2w.nii.gz'>,\n",
       " <BIDSFile filename='sub-controlGE140/ses-post/anat/sub-controlGE140_ses-post_acq-2_T2w.nii.gz'>,\n",
       " <BIDSFile filename='sub-controlGE140/ses-post/anat/sub-controlGE140_ses-post_T1w.nii.gz'>,\n",
       " <BIDSFile filename='sub-controlGE140/ses-post/cbf/sub-controlGE140_ses-post_acq-ASL_cbf.nii.gz'>,\n",
       " <BIDSFile filename='sub-controlGE140/ses-post/cbf/sub-controlGE140_ses-post_acq-cbf_cbf.nii.gz'>,\n",
       " <BIDSFile filename='sub-controlGE140/ses-post/dwi/sub-controlGE140_ses-post_acq-64D_dwi.bval'>,\n",
       " <BIDSFile filename='sub-controlGE140/ses-post/dwi/sub-controlGE140_ses-post_acq-64D_dwi.bvec'>,\n",
       " <BIDSFile filename='sub-controlGE140/ses-post/dwi/sub-controlGE140_ses-post_acq-64D_dwi.json'>,\n",
       " <BIDSFile filename='sub-controlGE140/ses-post/dwi/sub-controlGE140_ses-post_acq-64D_dwi.nii.gz'>,\n",
       " <BIDSFile filename='sub-controlGE140/ses-post/dwi/sub-controlGE140_ses-post_acq-blip_dwi.bval'>,\n",
       " <BIDSFile filename='sub-controlGE140/ses-post/dwi/sub-controlGE140_ses-post_acq-blip_dwi.bvec'>,\n",
       " <BIDSFile filename='sub-controlGE140/ses-post/dwi/sub-controlGE140_ses-post_acq-blip_dwi.json'>,\n",
       " <BIDSFile filename='sub-controlGE140/ses-post/dwi/sub-controlGE140_ses-post_acq-blip_dwi.nii.gz'>,\n",
       " <BIDSFile filename='sub-controlGE140/ses-post/fmap/sub-controlGE140_ses-post_fieldmap.json'>,\n",
       " <BIDSFile filename='sub-controlGE140/ses-post/fmap/sub-controlGE140_ses-post_fieldmap.nii.gz'>,\n",
       " <BIDSFile filename='sub-controlGE140/ses-post/fmap/sub-controlGE140_ses-post_magnitude.nii.gz'>,\n",
       " <BIDSFile filename='sub-controlGE140/ses-post/func/sub-controlGE140_ses-post_task-flanker_bold.nii.gz'>,\n",
       " <BIDSFile filename='sub-controlGE140/ses-post/func/sub-controlGE140_ses-post_task-flanker_events.tsv'>,\n",
       " <BIDSFile filename='sub-controlGE140/ses-post/func/sub-controlGE140_ses-post_task-rest_bold.nii.gz'>,\n",
       " <BIDSFile filename='sub-controlGE140/ses-post/sub-controlGE140_ses-post_scans.tsv'>,\n",
       " <BIDSFile filename='sub-controlGE140/ses-pre/anat/sub-controlGE140_ses-pre_acq-1_T2w.nii.gz'>,\n",
       " <BIDSFile filename='sub-controlGE140/ses-pre/anat/sub-controlGE140_ses-pre_acq-2_T2w.nii.gz'>,\n",
       " <BIDSFile filename='sub-controlGE140/ses-pre/anat/sub-controlGE140_ses-pre_T1w.nii.gz'>,\n",
       " <BIDSFile filename='sub-controlGE140/ses-pre/cbf/sub-controlGE140_ses-pre_acq-ASL_cbf.nii.gz'>,\n",
       " <BIDSFile filename='sub-controlGE140/ses-pre/cbf/sub-controlGE140_ses-pre_acq-cbf_cbf.nii.gz'>,\n",
       " <BIDSFile filename='sub-controlGE140/ses-pre/dwi/sub-controlGE140_ses-pre_acq-64D_dwi.bval'>,\n",
       " <BIDSFile filename='sub-controlGE140/ses-pre/dwi/sub-controlGE140_ses-pre_acq-64D_dwi.bvec'>,\n",
       " <BIDSFile filename='sub-controlGE140/ses-pre/dwi/sub-controlGE140_ses-pre_acq-64D_dwi.json'>,\n",
       " <BIDSFile filename='sub-controlGE140/ses-pre/dwi/sub-controlGE140_ses-pre_acq-64D_dwi.nii.gz'>,\n",
       " <BIDSFile filename='sub-controlGE140/ses-pre/dwi/sub-controlGE140_ses-pre_acq-blip_dwi.bval'>,\n",
       " <BIDSFile filename='sub-controlGE140/ses-pre/dwi/sub-controlGE140_ses-pre_acq-blip_dwi.bvec'>,\n",
       " <BIDSFile filename='sub-controlGE140/ses-pre/dwi/sub-controlGE140_ses-pre_acq-blip_dwi.json'>,\n",
       " <BIDSFile filename='sub-controlGE140/ses-pre/dwi/sub-controlGE140_ses-pre_acq-blip_dwi.nii.gz'>,\n",
       " <BIDSFile filename='sub-controlGE140/ses-pre/fmap/sub-controlGE140_ses-pre_fieldmap.json'>,\n",
       " <BIDSFile filename='sub-controlGE140/ses-pre/fmap/sub-controlGE140_ses-pre_fieldmap.nii.gz'>,\n",
       " <BIDSFile filename='sub-controlGE140/ses-pre/fmap/sub-controlGE140_ses-pre_magnitude.nii.gz'>,\n",
       " <BIDSFile filename='sub-controlGE140/ses-pre/func/sub-controlGE140_ses-pre_task-flanker_bold.nii.gz'>,\n",
       " <BIDSFile filename='sub-controlGE140/ses-pre/func/sub-controlGE140_ses-pre_task-flanker_events.tsv'>,\n",
       " <BIDSFile filename='sub-controlGE140/ses-pre/func/sub-controlGE140_ses-pre_task-rest_bold.nii.gz'>,\n",
       " <BIDSFile filename='sub-controlGE140/ses-pre/sub-controlGE140_ses-pre_scans.tsv'>,\n",
       " <BIDSFile filename='task-flanker_bold.json'>,\n",
       " <BIDSFile filename='task-rest_bold.json'>]"
      ]
     },
     "execution_count": 5,
     "metadata": {},
     "output_type": "execute_result"
    }
   ],
   "source": [
    "layout.get()"
   ]
  },
  {
   "cell_type": "code",
   "execution_count": 6,
   "metadata": {},
   "outputs": [
    {
     "name": "stdout",
     "output_type": "stream",
     "text": [
      "missing dataset_description.json\n"
     ]
    }
   ],
   "source": [
    "try:\n",
    "    derivatives_layout = BIDSLayout('../derivatives/fmriprep', config=['bids', 'derivatives'])\n",
    "except ValueError:\n",
    "    print('missing dataset_description.json')\n",
    "    dataset_dict = {'Name': 'fmriprep',\n",
    "                'BIDSVersion': '1.0.0',\n",
    "                'PipelineDescription': {'Name': 'fmriprep'},\n",
    "               }\n",
    "\n",
    "    # write the file to the fmriprep directory\n",
    "    with open(os.path.join('../derivatives/fmriprep', 'dataset_description.json'), 'w') as jsn:\n",
    "        json.dump(dataset_dict, jsn)\n",
    "    \n",
    "    derivatives_layout = BIDSLayout('../derivatives/fmriprep', config=['bids', 'derivatives'])"
   ]
  },
  {
   "cell_type": "code",
   "execution_count": 7,
   "metadata": {},
   "outputs": [
    {
     "data": {
      "text/plain": [
       "[<BIDSFile filename='dataset_description.json'>,\n",
       " <BIDSFile filename='sub-controlGE140/.DS_Store'>,\n",
       " <BIDSFile filename='sub-controlGE140/anat/sub-controlGE140_T1w_preproc.nii.gz'>,\n",
       " <BIDSFile filename='sub-controlGE140/anat/sub-controlGE140_T1w_brainmask.nii.gz'>,\n",
       " <BIDSFile filename='sub-controlGE140/anat/sub-controlGE140_T1w_class-CSF_probtissue.nii.gz'>,\n",
       " <BIDSFile filename='sub-controlGE140/anat/sub-controlGE140_T1w_class-GM_probtissue.nii.gz'>,\n",
       " <BIDSFile filename='sub-controlGE140/anat/sub-controlGE140_T1w_class-WM_probtissue.nii.gz'>,\n",
       " <BIDSFile filename='sub-controlGE140/anat/sub-controlGE140_T1w_dtissue.nii.gz'>,\n",
       " <BIDSFile filename='sub-controlGE140/anat/sub-controlGE140_T1w_inflated.L.surf.gii'>,\n",
       " <BIDSFile filename='sub-controlGE140/anat/sub-controlGE140_T1w_inflated.R.surf.gii'>,\n",
       " <BIDSFile filename='sub-controlGE140/anat/sub-controlGE140_T1w_midthickness.L.surf.gii'>,\n",
       " <BIDSFile filename='sub-controlGE140/anat/sub-controlGE140_T1w_midthickness.R.surf.gii'>,\n",
       " <BIDSFile filename='sub-controlGE140/anat/sub-controlGE140_T1w_pial.L.surf.gii'>,\n",
       " <BIDSFile filename='sub-controlGE140/anat/sub-controlGE140_T1w_pial.R.surf.gii'>,\n",
       " <BIDSFile filename='sub-controlGE140/anat/sub-controlGE140_T1w_smoothwm.L.surf.gii'>,\n",
       " <BIDSFile filename='sub-controlGE140/anat/sub-controlGE140_T1w_smoothwm.R.surf.gii'>,\n",
       " <BIDSFile filename='sub-controlGE140/anat/sub-controlGE140_T1w_space-MNI152NLin2009cAsym_brainmask.nii.gz'>,\n",
       " <BIDSFile filename='sub-controlGE140/anat/sub-controlGE140_T1w_space-MNI152NLin2009cAsym_class-CSF_probtissue.nii.gz'>,\n",
       " <BIDSFile filename='sub-controlGE140/anat/sub-controlGE140_T1w_space-MNI152NLin2009cAsym_class-GM_probtissue.nii.gz'>,\n",
       " <BIDSFile filename='sub-controlGE140/anat/sub-controlGE140_T1w_space-MNI152NLin2009cAsym_class-WM_probtissue.nii.gz'>,\n",
       " <BIDSFile filename='sub-controlGE140/anat/sub-controlGE140_T1w_space-MNI152NLin2009cAsym_dtissue.nii.gz'>,\n",
       " <BIDSFile filename='sub-controlGE140/anat/sub-controlGE140_T1w_space-MNI152NLin2009cAsym_preproc.nii.gz'>,\n",
       " <BIDSFile filename='sub-controlGE140/anat/sub-controlGE140_T1w_space-MNI152NLin2009cAsym_target-T1w_warp.h5'>,\n",
       " <BIDSFile filename='sub-controlGE140/anat/sub-controlGE140_T1w_target-fsnative_affine.txt'>,\n",
       " <BIDSFile filename='sub-controlGE140/anat/sub-controlGE140_T1w_target-MNI152NLin2009cAsym_warp.h5'>,\n",
       " <BIDSFile filename='sub-controlGE140/figures/sub-controlGE140_ses-pre_task-flanker_bold_rois.svg'>,\n",
       " <BIDSFile filename='sub-controlGE140/figures/sub-controlGE140_ses-post_fieldmap_fmap_mask.svg'>,\n",
       " <BIDSFile filename='sub-controlGE140/figures/sub-controlGE140_ses-post_task-flanker_bold_coreg.svg'>,\n",
       " <BIDSFile filename='sub-controlGE140/figures/sub-controlGE140_ses-post_task-flanker_bold_fmap_reg.svg'>,\n",
       " <BIDSFile filename='sub-controlGE140/figures/sub-controlGE140_ses-post_task-flanker_bold_fmap_reg_vsm.svg'>,\n",
       " <BIDSFile filename='sub-controlGE140/figures/sub-controlGE140_ses-post_task-flanker_bold_ica_aroma.svg'>,\n",
       " <BIDSFile filename='sub-controlGE140/figures/sub-controlGE140_ses-post_task-flanker_bold_rois.svg'>,\n",
       " <BIDSFile filename='sub-controlGE140/figures/sub-controlGE140_ses-post_task-flanker_bold_variant-hmcsdc_preproc.svg'>,\n",
       " <BIDSFile filename='sub-controlGE140/figures/sub-controlGE140_ses-post_task-rest_bold_coreg.svg'>,\n",
       " <BIDSFile filename='sub-controlGE140/figures/sub-controlGE140_ses-post_task-rest_bold_fmap_reg.svg'>,\n",
       " <BIDSFile filename='sub-controlGE140/figures/sub-controlGE140_ses-post_task-rest_bold_fmap_reg_vsm.svg'>,\n",
       " <BIDSFile filename='sub-controlGE140/figures/sub-controlGE140_ses-post_task-rest_bold_ica_aroma.svg'>,\n",
       " <BIDSFile filename='sub-controlGE140/figures/sub-controlGE140_ses-post_task-rest_bold_rois.svg'>,\n",
       " <BIDSFile filename='sub-controlGE140/figures/sub-controlGE140_ses-post_task-rest_bold_variant-hmcsdc_preproc.svg'>,\n",
       " <BIDSFile filename='sub-controlGE140/figures/sub-controlGE140_ses-pre_fieldmap_fmap_mask.svg'>,\n",
       " <BIDSFile filename='sub-controlGE140/figures/sub-controlGE140_ses-pre_task-flanker_bold_coreg.svg'>,\n",
       " <BIDSFile filename='sub-controlGE140/figures/sub-controlGE140_ses-pre_task-flanker_bold_fmap_reg.svg'>,\n",
       " <BIDSFile filename='sub-controlGE140/figures/sub-controlGE140_ses-pre_task-flanker_bold_fmap_reg_vsm.svg'>,\n",
       " <BIDSFile filename='sub-controlGE140/figures/sub-controlGE140_ses-pre_task-flanker_bold_ica_aroma.svg'>,\n",
       " <BIDSFile filename='sub-controlGE140/figures/sub-controlGE140_ses-pre_task-flanker_bold_variant-hmcsdc_preproc.svg'>,\n",
       " <BIDSFile filename='sub-controlGE140/figures/sub-controlGE140_ses-pre_task-rest_bold_coreg.svg'>,\n",
       " <BIDSFile filename='sub-controlGE140/figures/sub-controlGE140_ses-pre_task-rest_bold_fmap_reg.svg'>,\n",
       " <BIDSFile filename='sub-controlGE140/figures/sub-controlGE140_ses-pre_task-rest_bold_fmap_reg_vsm.svg'>,\n",
       " <BIDSFile filename='sub-controlGE140/figures/sub-controlGE140_ses-pre_task-rest_bold_ica_aroma.svg'>,\n",
       " <BIDSFile filename='sub-controlGE140/figures/sub-controlGE140_ses-pre_task-rest_bold_rois.svg'>,\n",
       " <BIDSFile filename='sub-controlGE140/figures/sub-controlGE140_ses-pre_task-rest_bold_variant-hmcsdc_preproc.svg'>,\n",
       " <BIDSFile filename='sub-controlGE140/figures/sub-controlGE140_T1w_reconall.svg'>,\n",
       " <BIDSFile filename='sub-controlGE140/figures/sub-controlGE140_T1w_seg_brainmask.svg'>,\n",
       " <BIDSFile filename='sub-controlGE140/figures/sub-controlGE140_T1w_t1_2_mni.svg'>,\n",
       " <BIDSFile filename='sub-controlGE140/ses-post/.DS_Store'>,\n",
       " <BIDSFile filename='sub-controlGE140/ses-post/anat/sub-controlGE140_ses-post_T1w_space-orig_target-T1w_affine.txt'>,\n",
       " <BIDSFile filename='sub-controlGE140/ses-post/func/sub-controlGE140_ses-post_task-flanker_bold_AROMAnoiseICs.csv'>,\n",
       " <BIDSFile filename='sub-controlGE140/ses-post/func/sub-controlGE140_ses-post_task-flanker_bold_confounds.tsv'>,\n",
       " <BIDSFile filename='sub-controlGE140/ses-post/func/sub-controlGE140_ses-post_task-flanker_bold_MELODICmix.tsv'>,\n",
       " <BIDSFile filename='sub-controlGE140/ses-post/func/sub-controlGE140_ses-post_task-flanker_bold_space-MNI152NLin2009cAsym_brainmask.nii.gz'>,\n",
       " <BIDSFile filename='sub-controlGE140/ses-post/func/sub-controlGE140_ses-post_task-flanker_bold_space-MNI152NLin2009cAsym_preproc.nii.gz'>,\n",
       " <BIDSFile filename='sub-controlGE140/ses-post/func/sub-controlGE140_ses-post_task-flanker_bold_space-MNI152NLin2009cAsym_variant-AROMAnonaggr_preproc.nii.gz'>,\n",
       " <BIDSFile filename='sub-controlGE140/ses-post/func/sub-controlGE140_ses-post_task-flanker_bold_space-MNI152NLin2009cAsym_variant-smoothAROMAnonaggr_preproc.nii.gz'>,\n",
       " <BIDSFile filename='sub-controlGE140/ses-post/func/sub-controlGE140_ses-post_task-rest_bold_AROMAnoiseICs.csv'>,\n",
       " <BIDSFile filename='sub-controlGE140/ses-post/func/sub-controlGE140_ses-post_task-rest_bold_confounds.tsv'>,\n",
       " <BIDSFile filename='sub-controlGE140/ses-post/func/sub-controlGE140_ses-post_task-rest_bold_MELODICmix.tsv'>,\n",
       " <BIDSFile filename='sub-controlGE140/ses-post/func/sub-controlGE140_ses-post_task-rest_bold_space-MNI152NLin2009cAsym_brainmask.nii.gz'>,\n",
       " <BIDSFile filename='sub-controlGE140/ses-post/func/sub-controlGE140_ses-post_task-rest_bold_space-MNI152NLin2009cAsym_preproc.nii.gz'>,\n",
       " <BIDSFile filename='sub-controlGE140/ses-post/func/sub-controlGE140_ses-post_task-rest_bold_space-MNI152NLin2009cAsym_variant-AROMAnonaggr_preproc.nii.gz'>,\n",
       " <BIDSFile filename='sub-controlGE140/ses-post/func/sub-controlGE140_ses-post_task-rest_bold_space-MNI152NLin2009cAsym_variant-smoothAROMAnonaggr_preproc.nii.gz'>,\n",
       " <BIDSFile filename='sub-controlGE140/ses-pre/.DS_Store'>,\n",
       " <BIDSFile filename='sub-controlGE140/ses-pre/anat/sub-controlGE140_ses-pre_T1w_space-orig_target-T1w_affine.txt'>,\n",
       " <BIDSFile filename='sub-controlGE140/ses-pre/func/sub-controlGE140_ses-pre_task-flanker_bold_AROMAnoiseICs.csv'>,\n",
       " <BIDSFile filename='sub-controlGE140/ses-pre/func/sub-controlGE140_ses-pre_task-flanker_bold_confounds.tsv'>,\n",
       " <BIDSFile filename='sub-controlGE140/ses-pre/func/sub-controlGE140_ses-pre_task-flanker_bold_MELODICmix.tsv'>,\n",
       " <BIDSFile filename='sub-controlGE140/ses-pre/func/sub-controlGE140_ses-pre_task-flanker_bold_space-MNI152NLin2009cAsym_brainmask.nii.gz'>,\n",
       " <BIDSFile filename='sub-controlGE140/ses-pre/func/sub-controlGE140_ses-pre_task-flanker_bold_space-MNI152NLin2009cAsym_preproc.nii.gz'>,\n",
       " <BIDSFile filename='sub-controlGE140/ses-pre/func/sub-controlGE140_ses-pre_task-flanker_bold_space-MNI152NLin2009cAsym_variant-AROMAnonaggr_preproc.nii.gz'>,\n",
       " <BIDSFile filename='sub-controlGE140/ses-pre/func/sub-controlGE140_ses-pre_task-flanker_bold_space-MNI152NLin2009cAsym_variant-smoothAROMAnonaggr_preproc.nii.gz'>,\n",
       " <BIDSFile filename='sub-controlGE140/ses-pre/func/sub-controlGE140_ses-pre_task-rest_bold_AROMAnoiseICs.csv'>,\n",
       " <BIDSFile filename='sub-controlGE140/ses-pre/func/sub-controlGE140_ses-pre_task-rest_bold_confounds.tsv'>,\n",
       " <BIDSFile filename='sub-controlGE140/ses-pre/func/sub-controlGE140_ses-pre_task-rest_bold_MELODICmix.tsv'>,\n",
       " <BIDSFile filename='sub-controlGE140/ses-pre/func/sub-controlGE140_ses-pre_task-rest_bold_space-MNI152NLin2009cAsym_brainmask.nii.gz'>,\n",
       " <BIDSFile filename='sub-controlGE140/ses-pre/func/sub-controlGE140_ses-pre_task-rest_bold_space-MNI152NLin2009cAsym_preproc.nii.gz'>,\n",
       " <BIDSFile filename='sub-controlGE140/ses-pre/func/sub-controlGE140_ses-pre_task-rest_bold_space-MNI152NLin2009cAsym_variant-AROMAnonaggr_preproc.nii.gz'>,\n",
       " <BIDSFile filename='sub-controlGE140/ses-pre/func/sub-controlGE140_ses-pre_task-rest_bold_space-MNI152NLin2009cAsym_variant-smoothAROMAnonaggr_preproc.nii.gz'>,\n",
       " <BIDSFile filename='sub-controlGE140/ses-pre/func/test.nii.gz'>]"
      ]
     },
     "execution_count": 7,
     "metadata": {},
     "output_type": "execute_result"
    }
   ],
   "source": [
    "derivatives_layout.get()"
   ]
  },
  {
   "cell_type": "code",
   "execution_count": 8,
   "metadata": {},
   "outputs": [],
   "source": [
    "layout_again = BIDSLayout('..', derivatives=True)"
   ]
  },
  {
   "cell_type": "code",
   "execution_count": 9,
   "metadata": {},
   "outputs": [
    {
     "data": {
      "text/plain": [
       "[<BIDSFile filename='dataset_description.json'>,\n",
       " <BIDSFile filename='fieldmap.json'>,\n",
       " <BIDSFile filename='sub-controlGE140/ses-post/anat/sub-controlGE140_ses-post_acq-1_T2w.nii.gz'>,\n",
       " <BIDSFile filename='sub-controlGE140/ses-post/anat/sub-controlGE140_ses-post_acq-2_T2w.nii.gz'>,\n",
       " <BIDSFile filename='sub-controlGE140/ses-post/anat/sub-controlGE140_ses-post_T1w.nii.gz'>,\n",
       " <BIDSFile filename='sub-controlGE140/ses-post/cbf/sub-controlGE140_ses-post_acq-ASL_cbf.nii.gz'>,\n",
       " <BIDSFile filename='sub-controlGE140/ses-post/cbf/sub-controlGE140_ses-post_acq-cbf_cbf.nii.gz'>,\n",
       " <BIDSFile filename='sub-controlGE140/ses-post/dwi/sub-controlGE140_ses-post_acq-64D_dwi.bval'>,\n",
       " <BIDSFile filename='sub-controlGE140/ses-post/dwi/sub-controlGE140_ses-post_acq-64D_dwi.bvec'>,\n",
       " <BIDSFile filename='sub-controlGE140/ses-post/dwi/sub-controlGE140_ses-post_acq-64D_dwi.json'>,\n",
       " <BIDSFile filename='sub-controlGE140/ses-post/dwi/sub-controlGE140_ses-post_acq-64D_dwi.nii.gz'>,\n",
       " <BIDSFile filename='sub-controlGE140/ses-post/dwi/sub-controlGE140_ses-post_acq-blip_dwi.bval'>,\n",
       " <BIDSFile filename='sub-controlGE140/ses-post/dwi/sub-controlGE140_ses-post_acq-blip_dwi.bvec'>,\n",
       " <BIDSFile filename='sub-controlGE140/ses-post/dwi/sub-controlGE140_ses-post_acq-blip_dwi.json'>,\n",
       " <BIDSFile filename='sub-controlGE140/ses-post/dwi/sub-controlGE140_ses-post_acq-blip_dwi.nii.gz'>,\n",
       " <BIDSFile filename='sub-controlGE140/ses-post/fmap/sub-controlGE140_ses-post_fieldmap.json'>,\n",
       " <BIDSFile filename='sub-controlGE140/ses-post/fmap/sub-controlGE140_ses-post_fieldmap.nii.gz'>,\n",
       " <BIDSFile filename='sub-controlGE140/ses-post/fmap/sub-controlGE140_ses-post_magnitude.nii.gz'>,\n",
       " <BIDSFile filename='sub-controlGE140/ses-post/func/sub-controlGE140_ses-post_task-flanker_bold.nii.gz'>,\n",
       " <BIDSFile filename='sub-controlGE140/ses-post/func/sub-controlGE140_ses-post_task-flanker_events.tsv'>,\n",
       " <BIDSFile filename='sub-controlGE140/ses-post/func/sub-controlGE140_ses-post_task-rest_bold.nii.gz'>,\n",
       " <BIDSFile filename='sub-controlGE140/ses-post/sub-controlGE140_ses-post_scans.tsv'>,\n",
       " <BIDSFile filename='sub-controlGE140/ses-pre/anat/sub-controlGE140_ses-pre_acq-1_T2w.nii.gz'>,\n",
       " <BIDSFile filename='sub-controlGE140/ses-pre/anat/sub-controlGE140_ses-pre_acq-2_T2w.nii.gz'>,\n",
       " <BIDSFile filename='sub-controlGE140/ses-pre/anat/sub-controlGE140_ses-pre_T1w.nii.gz'>,\n",
       " <BIDSFile filename='sub-controlGE140/ses-pre/cbf/sub-controlGE140_ses-pre_acq-ASL_cbf.nii.gz'>,\n",
       " <BIDSFile filename='sub-controlGE140/ses-pre/cbf/sub-controlGE140_ses-pre_acq-cbf_cbf.nii.gz'>,\n",
       " <BIDSFile filename='sub-controlGE140/ses-pre/dwi/sub-controlGE140_ses-pre_acq-64D_dwi.bval'>,\n",
       " <BIDSFile filename='sub-controlGE140/ses-pre/dwi/sub-controlGE140_ses-pre_acq-64D_dwi.bvec'>,\n",
       " <BIDSFile filename='sub-controlGE140/ses-pre/dwi/sub-controlGE140_ses-pre_acq-64D_dwi.json'>,\n",
       " <BIDSFile filename='sub-controlGE140/ses-pre/dwi/sub-controlGE140_ses-pre_acq-64D_dwi.nii.gz'>,\n",
       " <BIDSFile filename='sub-controlGE140/ses-pre/dwi/sub-controlGE140_ses-pre_acq-blip_dwi.bval'>,\n",
       " <BIDSFile filename='sub-controlGE140/ses-pre/dwi/sub-controlGE140_ses-pre_acq-blip_dwi.bvec'>,\n",
       " <BIDSFile filename='sub-controlGE140/ses-pre/dwi/sub-controlGE140_ses-pre_acq-blip_dwi.json'>,\n",
       " <BIDSFile filename='sub-controlGE140/ses-pre/dwi/sub-controlGE140_ses-pre_acq-blip_dwi.nii.gz'>,\n",
       " <BIDSFile filename='sub-controlGE140/ses-pre/fmap/sub-controlGE140_ses-pre_fieldmap.json'>,\n",
       " <BIDSFile filename='sub-controlGE140/ses-pre/fmap/sub-controlGE140_ses-pre_fieldmap.nii.gz'>,\n",
       " <BIDSFile filename='sub-controlGE140/ses-pre/fmap/sub-controlGE140_ses-pre_magnitude.nii.gz'>,\n",
       " <BIDSFile filename='sub-controlGE140/ses-pre/func/sub-controlGE140_ses-pre_task-flanker_bold.nii.gz'>,\n",
       " <BIDSFile filename='sub-controlGE140/ses-pre/func/sub-controlGE140_ses-pre_task-flanker_events.tsv'>,\n",
       " <BIDSFile filename='sub-controlGE140/ses-pre/func/sub-controlGE140_ses-pre_task-rest_bold.nii.gz'>,\n",
       " <BIDSFile filename='sub-controlGE140/ses-pre/sub-controlGE140_ses-pre_scans.tsv'>,\n",
       " <BIDSFile filename='task-flanker_bold.json'>,\n",
       " <BIDSFile filename='task-rest_bold.json'>,\n",
       " <BIDSFile filename='dataset_description.json', root='fmriprep'>,\n",
       " <BIDSFile filename='sub-controlGE140/.DS_Store', root='fmriprep'>,\n",
       " <BIDSFile filename='sub-controlGE140/anat/sub-controlGE140_T1w_preproc.nii.gz', root='fmriprep'>,\n",
       " <BIDSFile filename='sub-controlGE140/anat/sub-controlGE140_T1w_brainmask.nii.gz', root='fmriprep'>,\n",
       " <BIDSFile filename='sub-controlGE140/anat/sub-controlGE140_T1w_class-CSF_probtissue.nii.gz', root='fmriprep'>,\n",
       " <BIDSFile filename='sub-controlGE140/anat/sub-controlGE140_T1w_class-GM_probtissue.nii.gz', root='fmriprep'>,\n",
       " <BIDSFile filename='sub-controlGE140/anat/sub-controlGE140_T1w_class-WM_probtissue.nii.gz', root='fmriprep'>,\n",
       " <BIDSFile filename='sub-controlGE140/anat/sub-controlGE140_T1w_dtissue.nii.gz', root='fmriprep'>,\n",
       " <BIDSFile filename='sub-controlGE140/anat/sub-controlGE140_T1w_inflated.L.surf.gii', root='fmriprep'>,\n",
       " <BIDSFile filename='sub-controlGE140/anat/sub-controlGE140_T1w_inflated.R.surf.gii', root='fmriprep'>,\n",
       " <BIDSFile filename='sub-controlGE140/anat/sub-controlGE140_T1w_midthickness.L.surf.gii', root='fmriprep'>,\n",
       " <BIDSFile filename='sub-controlGE140/anat/sub-controlGE140_T1w_midthickness.R.surf.gii', root='fmriprep'>,\n",
       " <BIDSFile filename='sub-controlGE140/anat/sub-controlGE140_T1w_pial.L.surf.gii', root='fmriprep'>,\n",
       " <BIDSFile filename='sub-controlGE140/anat/sub-controlGE140_T1w_pial.R.surf.gii', root='fmriprep'>,\n",
       " <BIDSFile filename='sub-controlGE140/anat/sub-controlGE140_T1w_smoothwm.L.surf.gii', root='fmriprep'>,\n",
       " <BIDSFile filename='sub-controlGE140/anat/sub-controlGE140_T1w_smoothwm.R.surf.gii', root='fmriprep'>,\n",
       " <BIDSFile filename='sub-controlGE140/anat/sub-controlGE140_T1w_space-MNI152NLin2009cAsym_brainmask.nii.gz', root='fmriprep'>,\n",
       " <BIDSFile filename='sub-controlGE140/anat/sub-controlGE140_T1w_space-MNI152NLin2009cAsym_class-CSF_probtissue.nii.gz', root='fmriprep'>,\n",
       " <BIDSFile filename='sub-controlGE140/anat/sub-controlGE140_T1w_space-MNI152NLin2009cAsym_class-GM_probtissue.nii.gz', root='fmriprep'>,\n",
       " <BIDSFile filename='sub-controlGE140/anat/sub-controlGE140_T1w_space-MNI152NLin2009cAsym_class-WM_probtissue.nii.gz', root='fmriprep'>,\n",
       " <BIDSFile filename='sub-controlGE140/anat/sub-controlGE140_T1w_space-MNI152NLin2009cAsym_dtissue.nii.gz', root='fmriprep'>,\n",
       " <BIDSFile filename='sub-controlGE140/anat/sub-controlGE140_T1w_space-MNI152NLin2009cAsym_preproc.nii.gz', root='fmriprep'>,\n",
       " <BIDSFile filename='sub-controlGE140/anat/sub-controlGE140_T1w_space-MNI152NLin2009cAsym_target-T1w_warp.h5', root='fmriprep'>,\n",
       " <BIDSFile filename='sub-controlGE140/anat/sub-controlGE140_T1w_target-fsnative_affine.txt', root='fmriprep'>,\n",
       " <BIDSFile filename='sub-controlGE140/anat/sub-controlGE140_T1w_target-MNI152NLin2009cAsym_warp.h5', root='fmriprep'>,\n",
       " <BIDSFile filename='sub-controlGE140/figures/sub-controlGE140_ses-pre_task-flanker_bold_rois.svg', root='fmriprep'>,\n",
       " <BIDSFile filename='sub-controlGE140/figures/sub-controlGE140_ses-post_fieldmap_fmap_mask.svg', root='fmriprep'>,\n",
       " <BIDSFile filename='sub-controlGE140/figures/sub-controlGE140_ses-post_task-flanker_bold_coreg.svg', root='fmriprep'>,\n",
       " <BIDSFile filename='sub-controlGE140/figures/sub-controlGE140_ses-post_task-flanker_bold_fmap_reg.svg', root='fmriprep'>,\n",
       " <BIDSFile filename='sub-controlGE140/figures/sub-controlGE140_ses-post_task-flanker_bold_fmap_reg_vsm.svg', root='fmriprep'>,\n",
       " <BIDSFile filename='sub-controlGE140/figures/sub-controlGE140_ses-post_task-flanker_bold_ica_aroma.svg', root='fmriprep'>,\n",
       " <BIDSFile filename='sub-controlGE140/figures/sub-controlGE140_ses-post_task-flanker_bold_rois.svg', root='fmriprep'>,\n",
       " <BIDSFile filename='sub-controlGE140/figures/sub-controlGE140_ses-post_task-flanker_bold_variant-hmcsdc_preproc.svg', root='fmriprep'>,\n",
       " <BIDSFile filename='sub-controlGE140/figures/sub-controlGE140_ses-post_task-rest_bold_coreg.svg', root='fmriprep'>,\n",
       " <BIDSFile filename='sub-controlGE140/figures/sub-controlGE140_ses-post_task-rest_bold_fmap_reg.svg', root='fmriprep'>,\n",
       " <BIDSFile filename='sub-controlGE140/figures/sub-controlGE140_ses-post_task-rest_bold_fmap_reg_vsm.svg', root='fmriprep'>,\n",
       " <BIDSFile filename='sub-controlGE140/figures/sub-controlGE140_ses-post_task-rest_bold_ica_aroma.svg', root='fmriprep'>,\n",
       " <BIDSFile filename='sub-controlGE140/figures/sub-controlGE140_ses-post_task-rest_bold_rois.svg', root='fmriprep'>,\n",
       " <BIDSFile filename='sub-controlGE140/figures/sub-controlGE140_ses-post_task-rest_bold_variant-hmcsdc_preproc.svg', root='fmriprep'>,\n",
       " <BIDSFile filename='sub-controlGE140/figures/sub-controlGE140_ses-pre_fieldmap_fmap_mask.svg', root='fmriprep'>,\n",
       " <BIDSFile filename='sub-controlGE140/figures/sub-controlGE140_ses-pre_task-flanker_bold_coreg.svg', root='fmriprep'>,\n",
       " <BIDSFile filename='sub-controlGE140/figures/sub-controlGE140_ses-pre_task-flanker_bold_fmap_reg.svg', root='fmriprep'>,\n",
       " <BIDSFile filename='sub-controlGE140/figures/sub-controlGE140_ses-pre_task-flanker_bold_fmap_reg_vsm.svg', root='fmriprep'>,\n",
       " <BIDSFile filename='sub-controlGE140/figures/sub-controlGE140_ses-pre_task-flanker_bold_ica_aroma.svg', root='fmriprep'>,\n",
       " <BIDSFile filename='sub-controlGE140/figures/sub-controlGE140_ses-pre_task-flanker_bold_variant-hmcsdc_preproc.svg', root='fmriprep'>,\n",
       " <BIDSFile filename='sub-controlGE140/figures/sub-controlGE140_ses-pre_task-rest_bold_coreg.svg', root='fmriprep'>,\n",
       " <BIDSFile filename='sub-controlGE140/figures/sub-controlGE140_ses-pre_task-rest_bold_fmap_reg.svg', root='fmriprep'>,\n",
       " <BIDSFile filename='sub-controlGE140/figures/sub-controlGE140_ses-pre_task-rest_bold_fmap_reg_vsm.svg', root='fmriprep'>,\n",
       " <BIDSFile filename='sub-controlGE140/figures/sub-controlGE140_ses-pre_task-rest_bold_ica_aroma.svg', root='fmriprep'>,\n",
       " <BIDSFile filename='sub-controlGE140/figures/sub-controlGE140_ses-pre_task-rest_bold_rois.svg', root='fmriprep'>,\n",
       " <BIDSFile filename='sub-controlGE140/figures/sub-controlGE140_ses-pre_task-rest_bold_variant-hmcsdc_preproc.svg', root='fmriprep'>,\n",
       " <BIDSFile filename='sub-controlGE140/figures/sub-controlGE140_T1w_reconall.svg', root='fmriprep'>,\n",
       " <BIDSFile filename='sub-controlGE140/figures/sub-controlGE140_T1w_seg_brainmask.svg', root='fmriprep'>,\n",
       " <BIDSFile filename='sub-controlGE140/figures/sub-controlGE140_T1w_t1_2_mni.svg', root='fmriprep'>,\n",
       " <BIDSFile filename='sub-controlGE140/ses-post/.DS_Store', root='fmriprep'>,\n",
       " <BIDSFile filename='sub-controlGE140/ses-post/anat/sub-controlGE140_ses-post_T1w_space-orig_target-T1w_affine.txt', root='fmriprep'>,\n",
       " <BIDSFile filename='sub-controlGE140/ses-post/func/sub-controlGE140_ses-post_task-flanker_bold_AROMAnoiseICs.csv', root='fmriprep'>,\n",
       " <BIDSFile filename='sub-controlGE140/ses-post/func/sub-controlGE140_ses-post_task-flanker_bold_confounds.tsv', root='fmriprep'>,\n",
       " <BIDSFile filename='sub-controlGE140/ses-post/func/sub-controlGE140_ses-post_task-flanker_bold_MELODICmix.tsv', root='fmriprep'>,\n",
       " <BIDSFile filename='sub-controlGE140/ses-post/func/sub-controlGE140_ses-post_task-flanker_bold_space-MNI152NLin2009cAsym_brainmask.nii.gz', root='fmriprep'>,\n",
       " <BIDSFile filename='sub-controlGE140/ses-post/func/sub-controlGE140_ses-post_task-flanker_bold_space-MNI152NLin2009cAsym_preproc.nii.gz', root='fmriprep'>,\n",
       " <BIDSFile filename='sub-controlGE140/ses-post/func/sub-controlGE140_ses-post_task-flanker_bold_space-MNI152NLin2009cAsym_variant-AROMAnonaggr_preproc.nii.gz', root='fmriprep'>,\n",
       " <BIDSFile filename='sub-controlGE140/ses-post/func/sub-controlGE140_ses-post_task-flanker_bold_space-MNI152NLin2009cAsym_variant-smoothAROMAnonaggr_preproc.nii.gz', root='fmriprep'>,\n",
       " <BIDSFile filename='sub-controlGE140/ses-post/func/sub-controlGE140_ses-post_task-rest_bold_AROMAnoiseICs.csv', root='fmriprep'>,\n",
       " <BIDSFile filename='sub-controlGE140/ses-post/func/sub-controlGE140_ses-post_task-rest_bold_confounds.tsv', root='fmriprep'>,\n",
       " <BIDSFile filename='sub-controlGE140/ses-post/func/sub-controlGE140_ses-post_task-rest_bold_MELODICmix.tsv', root='fmriprep'>,\n",
       " <BIDSFile filename='sub-controlGE140/ses-post/func/sub-controlGE140_ses-post_task-rest_bold_space-MNI152NLin2009cAsym_brainmask.nii.gz', root='fmriprep'>,\n",
       " <BIDSFile filename='sub-controlGE140/ses-post/func/sub-controlGE140_ses-post_task-rest_bold_space-MNI152NLin2009cAsym_preproc.nii.gz', root='fmriprep'>,\n",
       " <BIDSFile filename='sub-controlGE140/ses-post/func/sub-controlGE140_ses-post_task-rest_bold_space-MNI152NLin2009cAsym_variant-AROMAnonaggr_preproc.nii.gz', root='fmriprep'>,\n",
       " <BIDSFile filename='sub-controlGE140/ses-post/func/sub-controlGE140_ses-post_task-rest_bold_space-MNI152NLin2009cAsym_variant-smoothAROMAnonaggr_preproc.nii.gz', root='fmriprep'>,\n",
       " <BIDSFile filename='sub-controlGE140/ses-pre/.DS_Store', root='fmriprep'>,\n",
       " <BIDSFile filename='sub-controlGE140/ses-pre/anat/sub-controlGE140_ses-pre_T1w_space-orig_target-T1w_affine.txt', root='fmriprep'>,\n",
       " <BIDSFile filename='sub-controlGE140/ses-pre/func/sub-controlGE140_ses-pre_task-flanker_bold_AROMAnoiseICs.csv', root='fmriprep'>,\n",
       " <BIDSFile filename='sub-controlGE140/ses-pre/func/sub-controlGE140_ses-pre_task-flanker_bold_confounds.tsv', root='fmriprep'>,\n",
       " <BIDSFile filename='sub-controlGE140/ses-pre/func/sub-controlGE140_ses-pre_task-flanker_bold_MELODICmix.tsv', root='fmriprep'>,\n",
       " <BIDSFile filename='sub-controlGE140/ses-pre/func/sub-controlGE140_ses-pre_task-flanker_bold_space-MNI152NLin2009cAsym_brainmask.nii.gz', root='fmriprep'>,\n",
       " <BIDSFile filename='sub-controlGE140/ses-pre/func/sub-controlGE140_ses-pre_task-flanker_bold_space-MNI152NLin2009cAsym_preproc.nii.gz', root='fmriprep'>,\n",
       " <BIDSFile filename='sub-controlGE140/ses-pre/func/sub-controlGE140_ses-pre_task-flanker_bold_space-MNI152NLin2009cAsym_variant-AROMAnonaggr_preproc.nii.gz', root='fmriprep'>,\n",
       " <BIDSFile filename='sub-controlGE140/ses-pre/func/sub-controlGE140_ses-pre_task-flanker_bold_space-MNI152NLin2009cAsym_variant-smoothAROMAnonaggr_preproc.nii.gz', root='fmriprep'>,\n",
       " <BIDSFile filename='sub-controlGE140/ses-pre/func/sub-controlGE140_ses-pre_task-rest_bold_AROMAnoiseICs.csv', root='fmriprep'>,\n",
       " <BIDSFile filename='sub-controlGE140/ses-pre/func/sub-controlGE140_ses-pre_task-rest_bold_confounds.tsv', root='fmriprep'>,\n",
       " <BIDSFile filename='sub-controlGE140/ses-pre/func/sub-controlGE140_ses-pre_task-rest_bold_MELODICmix.tsv', root='fmriprep'>,\n",
       " <BIDSFile filename='sub-controlGE140/ses-pre/func/sub-controlGE140_ses-pre_task-rest_bold_space-MNI152NLin2009cAsym_brainmask.nii.gz', root='fmriprep'>,\n",
       " <BIDSFile filename='sub-controlGE140/ses-pre/func/sub-controlGE140_ses-pre_task-rest_bold_space-MNI152NLin2009cAsym_preproc.nii.gz', root='fmriprep'>,\n",
       " <BIDSFile filename='sub-controlGE140/ses-pre/func/sub-controlGE140_ses-pre_task-rest_bold_space-MNI152NLin2009cAsym_variant-AROMAnonaggr_preproc.nii.gz', root='fmriprep'>,\n",
       " <BIDSFile filename='sub-controlGE140/ses-pre/func/sub-controlGE140_ses-pre_task-rest_bold_space-MNI152NLin2009cAsym_variant-smoothAROMAnonaggr_preproc.nii.gz', root='fmriprep'>,\n",
       " <BIDSFile filename='sub-controlGE140/ses-pre/func/test.nii.gz', root='fmriprep'>]"
      ]
     },
     "execution_count": 9,
     "metadata": {},
     "output_type": "execute_result"
    }
   ],
   "source": [
    "layout_again.get()"
   ]
  },
  {
   "cell_type": "code",
   "execution_count": 10,
   "metadata": {},
   "outputs": [
    {
     "data": {
      "text/plain": [
       "[<BIDSFile filename='sub-controlGE140/figures/sub-controlGE140_ses-post_task-flanker_bold_variant-hmcsdc_preproc.svg', root='fmriprep'>,\n",
       " <BIDSFile filename='sub-controlGE140/figures/sub-controlGE140_ses-pre_task-flanker_bold_variant-hmcsdc_preproc.svg', root='fmriprep'>,\n",
       " <BIDSFile filename='sub-controlGE140/ses-post/func/sub-controlGE140_ses-post_task-flanker_bold_space-MNI152NLin2009cAsym_preproc.nii.gz', root='fmriprep'>,\n",
       " <BIDSFile filename='sub-controlGE140/ses-post/func/sub-controlGE140_ses-post_task-flanker_bold_space-MNI152NLin2009cAsym_variant-AROMAnonaggr_preproc.nii.gz', root='fmriprep'>,\n",
       " <BIDSFile filename='sub-controlGE140/ses-post/func/sub-controlGE140_ses-post_task-flanker_bold_space-MNI152NLin2009cAsym_variant-smoothAROMAnonaggr_preproc.nii.gz', root='fmriprep'>,\n",
       " <BIDSFile filename='sub-controlGE140/ses-pre/func/sub-controlGE140_ses-pre_task-flanker_bold_space-MNI152NLin2009cAsym_preproc.nii.gz', root='fmriprep'>,\n",
       " <BIDSFile filename='sub-controlGE140/ses-pre/func/sub-controlGE140_ses-pre_task-flanker_bold_space-MNI152NLin2009cAsym_variant-AROMAnonaggr_preproc.nii.gz', root='fmriprep'>,\n",
       " <BIDSFile filename='sub-controlGE140/ses-pre/func/sub-controlGE140_ses-pre_task-flanker_bold_space-MNI152NLin2009cAsym_variant-smoothAROMAnonaggr_preproc.nii.gz', root='fmriprep'>]"
      ]
     },
     "execution_count": 10,
     "metadata": {},
     "output_type": "execute_result"
    }
   ],
   "source": [
    "layout_again.get(subject=\"controlGE140\", task='flanker', suffix='preproc')"
   ]
  },
  {
   "cell_type": "code",
   "execution_count": null,
   "metadata": {},
   "outputs": [],
   "source": []
  }
 ],
 "metadata": {
  "kernelspec": {
   "display_name": "Python 3",
   "language": "python",
   "name": "python3"
  },
  "language_info": {
   "codemirror_mode": {
    "name": "ipython",
    "version": 3
   },
   "file_extension": ".py",
   "mimetype": "text/x-python",
   "name": "python",
   "nbconvert_exporter": "python",
   "pygments_lexer": "ipython3",
   "version": "3.6.8"
  }
 },
 "nbformat": 4,
 "nbformat_minor": 2
}
